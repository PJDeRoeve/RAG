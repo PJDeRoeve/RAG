{
 "cells": [
  {
   "cell_type": "markdown",
   "metadata": {},
   "source": [
    "## Runtime and Quality Benchmark - openai vs OpenAI\n",
    "\n",
    "Below are a couple of tests comparing the performance of the Cohere and OpenAI embedding models. Main results:\n",
    " - Cohere offers English-only and multilingual models, OpenAI only offers multilingual models. The Cohere English-only model is comparable in runtime with the OpenAI default model (text-ada-002). The Cohere multilingual model is c. 2 times faster than the OpenAI default model.\n",
    " - For English, the Cohere embeddings appear to yield better results than the OpenAI embeddings, in the sense that the cosine similarity delta between similar and unsimilar sentences is significantly higher. That is, take three sentences `s1`, `s2`, `s3`, where `s1` is similar to `s2` but dissimilar from `s3`. The delta between the cosine similarities for (`s1`, `s2`) and (`s1`, `s3`) for the Cohere embeddings is significantly higher than the same delta for the OpenAI embeddings.\n",
    " - For languages other than English, the quality appears to be comparable."
   ]
  },
  {
   "cell_type": "code",
   "execution_count": null,
   "metadata": {
    "is_executing": true
   },
   "outputs": [],
   "source": [
    "import time\n",
    "from aiohttp import ClientSession\n",
    "\n",
    "from embed.openai import OpenAI\n",
    "from embed.cohere import Cohere\n",
    "\n",
    "\n",
    "async def test_cohere(test_data):\n",
    "    async with ClientSession() as session:\n",
    "        c = Cohere(\n",
    "            key=\"mykey\",\n",
    "            session=session,\n",
    "            model=\"embed-multilingual-v2.0\"   # only set to use multilingual model, default is English-only\n",
    "        )\n",
    "        v = await c.embed(test_data)\n",
    "    return v\n",
    "\n",
    "async def test_openai(test_data):\n",
    "    async with ClientSession() as session:\n",
    "        c = OpenAI(\n",
    "            key=\"mykey\",\n",
    "            session=session,\n",
    "            model=\"text-similarity-ada-001\"\n",
    "        )\n",
    "        v = await c.embed(test_data)\n",
    "    return v\n",
    "\n",
    "async def timeit(func, args, runs: int):\n",
    "    runtimes = []\n",
    "    for _ in range(runs):\n",
    "        start_time = time.perf_counter()\n",
    "        await func(args)\n",
    "        runtimes.append(time.perf_counter() - start_time)\n",
    "    print(\"Avg runtime:\", round(sum(runtimes)/runs, 2))\n"
   ]
  },
  {
   "cell_type": "code",
   "execution_count": null,
   "metadata": {},
   "outputs": [],
   "source": [
    "test_data = [\"Hello World\"] * 1000\n",
    "\n",
    "await timeit(func=test_cohere, args=test_data, runs=10)\n",
    "await timeit(func=test_openai, args=test_data, runs=10)"
   ]
  },
  {
   "cell_type": "markdown",
   "metadata": {},
   "source": [
    "## Cross-lingual test cases"
   ]
  },
  {
   "cell_type": "code",
   "execution_count": null,
   "metadata": {},
   "outputs": [],
   "source": [
    "from numpy import dot\n",
    "from numpy.linalg import norm\n",
    "\n",
    "def cosine_similarity(x, y):\n",
    "    return dot(x, y)/(norm(x) * norm(y))\n",
    "\n",
    "\n",
    "test_sentences = [\n",
    "    \"How are you doing?\",\n",
    "    \"Hoe gaat het?\",\n",
    "    \"Comment vas-tu?\",\n",
    "    \"The grass is green\",\n",
    "    \"Un gazon vert est joli\"\n",
    "]\n",
    "\n",
    "cohere_embeddings = await test_cohere(test_sentences)\n",
    "openai_embeddings = await test_openai(test_sentences)\n",
    "\n",
    "cohere_emb_zipped = dict(zip(test_sentences, cohere_embeddings))\n",
    "openai_emb_zipped = dict(zip(test_sentences, openai_embeddings))\n",
    "\n",
    "cohere_cos_sim_1 = cosine_similarity(cohere_emb_zipped[\"How are you doing?\"], cohere_emb_zipped[\"Hoe gaat het?\"])\n",
    "cohere_cos_sim_2 = cosine_similarity(cohere_emb_zipped[\"How are you doing?\"], cohere_emb_zipped[\"Comment vas-tu?\"])\n",
    "cohere_cos_sim_3 = cosine_similarity(cohere_emb_zipped[\"Hoe gaat het?\"], cohere_emb_zipped[\"Comment vas-tu?\"])\n",
    "cohere_cos_sim_4 = cosine_similarity(cohere_emb_zipped[\"How are you doing?\"], cohere_emb_zipped[\"Un gazon vert est joli\"])\n",
    "cohere_cos_sim_5 = cosine_similarity(cohere_emb_zipped[\"How are you doing?\"], cohere_emb_zipped[\"The grass is green\"])\n",
    "\n",
    "openai_cos_sim_1 = cosine_similarity(openai_emb_zipped[\"How are you doing?\"], openai_emb_zipped[\"Hoe gaat het?\"])\n",
    "openai_cos_sim_2 = cosine_similarity(openai_emb_zipped[\"How are you doing?\"], openai_emb_zipped[\"Comment vas-tu?\"])\n",
    "openai_cos_sim_3 = cosine_similarity(openai_emb_zipped[\"Hoe gaat het?\"], openai_emb_zipped[\"Comment vas-tu?\"])\n",
    "openai_cos_sim_4 = cosine_similarity(openai_emb_zipped[\"How are you doing?\"], openai_emb_zipped[\"Un gazon vert est joli\"])\n",
    "openai_cos_sim_5 = cosine_similarity(openai_emb_zipped[\"How are you doing?\"], openai_emb_zipped[\"The grass is green\"])\n",
    "\n",
    "print(round(cohere_cos_sim_1, 3))\n",
    "print(round(cohere_cos_sim_2, 3))\n",
    "print(round(cohere_cos_sim_3, 3))\n",
    "print(round(cohere_cos_sim_4, 3))\n",
    "print(round(cohere_cos_sim_5, 3))\n",
    "print(\"-----\")\n",
    "print(round(openai_cos_sim_1, 3))\n",
    "print(round(openai_cos_sim_2, 3))\n",
    "print(round(openai_cos_sim_3, 3))\n",
    "print(round(openai_cos_sim_4, 3))\n",
    "print(round(openai_cos_sim_5, 3))"
   ]
  },
  {
   "cell_type": "markdown",
   "metadata": {},
   "source": [
    "## Same-language test cases"
   ]
  },
  {
   "cell_type": "code",
   "execution_count": null,
   "metadata": {},
   "outputs": [],
   "source": [
    "test_sentences = [\n",
    "    \"Washington, DC, is the capital of the USA\",\n",
    "    \"Madrid is the capital of Spain\",\n",
    "    \"The Labour Unions are in favor of labor rights\"\n",
    "]\n",
    "\n",
    "cohere_embeddings_sl = await test_cohere(test_sentences)\n",
    "openai_embeddings_sl = await test_openai(test_sentences)\n",
    "\n",
    "cohere_emb_zipped_sl = dict(zip(test_sentences, cohere_embeddings_sl))\n",
    "openai_emb_zipped_sl = dict(zip(test_sentences, openai_embeddings_sl))\n",
    "\n",
    "cohere_cos_sim_sl_1 = cosine_similarity(cohere_emb_zipped_sl[\"Washington, DC, is the capital of the USA\"], cohere_emb_zipped_sl[\"Madrid is the capital of Spain\"])\n",
    "cohere_cos_sim_sl_3 = cosine_similarity(cohere_emb_zipped_sl[\"Washington, DC, is the capital of the USA\"], cohere_emb_zipped_sl[\"The Labour Unions are in favor of labor rights\"])\n",
    "\n",
    "openai_cos_sim_sl_1 = cosine_similarity(openai_emb_zipped_sl[\"Washington, DC, is the capital of the USA\"], openai_emb_zipped_sl[\"Madrid is the capital of Spain\"])\n",
    "openai_cos_sim_sl_3 = cosine_similarity(openai_emb_zipped_sl[\"Washington, DC, is the capital of the USA\"], openai_emb_zipped_sl[\"The Labour Unions are in favor of labor rights\"])\n",
    "\n",
    "print(round(cohere_cos_sim_sl_1, 3))\n",
    "print(round(cohere_cos_sim_sl_3, 3))\n",
    "print(\"-----\")\n",
    "print(round(openai_cos_sim_sl_1, 3))\n",
    "print(round(openai_cos_sim_sl_3, 3))\n"
   ]
  }
 ],
 "metadata": {
  "kernelspec": {
   "display_name": "embed-Q8Aj4XcW-py3.11",
   "language": "python",
   "name": "python3"
  },
  "language_info": {
   "codemirror_mode": {
    "name": "ipython",
    "version": 3
   },
   "file_extension": ".py",
   "mimetype": "text/x-python",
   "name": "python",
   "nbconvert_exporter": "python",
   "pygments_lexer": "ipython3",
   "version": "3.11.5"
  }
 },
 "nbformat": 4,
 "nbformat_minor": 2
}
